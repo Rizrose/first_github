{
 "cells": [
  {
   "cell_type": "markdown",
   "id": "6c7c5ee9",
   "metadata": {},
   "source": [
    "# Python with Baba AMmar\n",
    "## We are learning Data Science with Baba Ammar\n",
    "### I'm Riz and INSHALLAH I'll be successed in Data Science and be come a pakistani Sciencist"
   ]
  },
  {
   "cell_type": "markdown",
   "id": "fe9e954b",
   "metadata": {},
   "source": [
    "## **My First Code**"
   ]
  },
  {
   "cell_type": "code",
   "execution_count": null,
   "id": "b00ff9ad",
   "metadata": {},
   "outputs": [],
   "source": [
    "print(\"Best of Luck Muhammad Rizwan\")"
   ]
  },
  {
   "cell_type": "markdown",
   "id": "3e727f6c",
   "metadata": {},
   "source": [
    "## **02_Operators**"
   ]
  },
  {
   "cell_type": "code",
   "execution_count": null,
   "id": "403ec7b8",
   "metadata": {},
   "outputs": [],
   "source": [
    "print(2+3)\n",
    "print(5-2)\n",
    "print(5*2)\n",
    "print(5**2)\n",
    "print(5%2)\n",
    "print(8/2)\n",
    "print(8//2)\n",
    "\n",
    "\n",
    "print(2*3/2**3+4%2)"
   ]
  },
  {
   "cell_type": "markdown",
   "id": "62090239",
   "metadata": {},
   "source": [
    "*solve these kind of equations formula PEMDAS \n",
    "Parenthesis Exponents Multiplication Division Abstraction Subtraction* "
   ]
  },
  {
   "cell_type": "markdown",
   "id": "4fba0a77",
   "metadata": {},
   "source": [
    "## 03_Strings"
   ]
  },
  {
   "cell_type": "code",
   "execution_count": null,
   "id": "51388f67",
   "metadata": {},
   "outputs": [],
   "source": [
    "print('Muhammad')\n",
    "print(\"Rizwan\")\n",
    "print('''Mansha''')\n",
    "print('''What's Up''')\n",
    "print(\"What's up\")"
   ]
  },
  {
   "cell_type": "markdown",
   "id": "bf4909e4",
   "metadata": {},
   "source": [
    "## *04_Comments*"
   ]
  },
  {
   "cell_type": "code",
   "execution_count": null,
   "id": "d8de45d8",
   "metadata": {},
   "outputs": [],
   "source": [
    "print(\"How are you brother\")\n"
   ]
  },
  {
   "cell_type": "markdown",
   "id": "4803c31b",
   "metadata": {},
   "source": [
    "### *Here we are print the strings*"
   ]
  },
  {
   "cell_type": "code",
   "execution_count": null,
   "id": "01cb21e0",
   "metadata": {},
   "outputs": [],
   "source": [
    "print(\"Kesy ho yaar tum\")"
   ]
  },
  {
   "cell_type": "markdown",
   "id": "ca07e7be",
   "metadata": {},
   "source": [
    "### *at the start commnet (Ctrl + /)*"
   ]
  },
  {
   "cell_type": "markdown",
   "id": "1cf6bad7",
   "metadata": {},
   "source": [
    "## 05_Veriables"
   ]
  },
  {
   "cell_type": "code",
   "execution_count": null,
   "id": "9ddc4af9",
   "metadata": {},
   "outputs": [],
   "source": [
    "# For Integers\n",
    "x = 5\n",
    "print(x)"
   ]
  },
  {
   "cell_type": "code",
   "execution_count": null,
   "id": "8fbf0e0c",
   "metadata": {},
   "outputs": [],
   "source": [
    "y = \"My Name Is Rizwan From Pakistan\"\n",
    "print(y)\n"
   ]
  },
  {
   "cell_type": "markdown",
   "id": "59ab42f3",
   "metadata": {},
   "source": [
    "### x veriable overloaded "
   ]
  },
  {
   "cell_type": "code",
   "execution_count": null,
   "id": "78a782c3",
   "metadata": {},
   "outputs": [],
   "source": [
    "x = 10\n",
    "type(float(x))"
   ]
  },
  {
   "cell_type": "markdown",
   "id": "3e5234cd",
   "metadata": {},
   "source": [
    "### *Also Do that*"
   ]
  },
  {
   "cell_type": "code",
   "execution_count": null,
   "id": "defec014",
   "metadata": {},
   "outputs": [],
   "source": [
    "x = \"My Name is Muhammad Rizwan From Pakistan\"\n",
    "type(x)\n",
    "x"
   ]
  },
  {
   "cell_type": "code",
   "execution_count": null,
   "id": "f1b6eb0a",
   "metadata": {},
   "outputs": [],
   "source": [
    "y = \"Muhammad\",\" Rizwan\"\n",
    "print(y)\n"
   ]
  },
  {
   "cell_type": "markdown",
   "id": "a138c11b",
   "metadata": {},
   "source": [
    "\n",
    "## *Now check the Type of veriables*"
   ]
  },
  {
   "cell_type": "code",
   "execution_count": null,
   "id": "0abb8589",
   "metadata": {},
   "outputs": [],
   "source": [
    "y = \"Muhammad Rizwan\"\n",
    "type(y)\n"
   ]
  },
  {
   "cell_type": "markdown",
   "id": "a1cbceb2",
   "metadata": {},
   "source": [
    "# Rules for declearation of Veriables\n",
    "## 1. Do Not start veriable name with Numbers\n",
    "## 2. Veriable name should be start from strings, underscore, \n",
    "## 3. Veriable name should be discriptive\n",
    "## 4. Spaces are not allowed between Veriable name\n",
    "## 5. Do not use keywords function like(start, del, end, test, main, break etc)\n",
    "## 6. Casesenstive(should use lowercase letters for veriables)"
   ]
  },
  {
   "cell_type": "markdown",
   "id": "ed1ddde5",
   "metadata": {},
   "source": [
    "# Indexing in Python"
   ]
  },
  {
   "cell_type": "code",
   "execution_count": null,
   "id": "e65a278e",
   "metadata": {},
   "outputs": [],
   "source": [
    "a = \"Samosa Pakora\"\n",
    "a"
   ]
  },
  {
   "cell_type": "code",
   "execution_count": null,
   "id": "e231a9f9",
   "metadata": {},
   "outputs": [],
   "source": [
    "a[0]\n"
   ]
  },
  {
   "cell_type": "code",
   "execution_count": null,
   "id": "b8ac9659",
   "metadata": {},
   "outputs": [],
   "source": [
    "a[5]"
   ]
  },
  {
   "cell_type": "code",
   "execution_count": null,
   "id": "1c110789",
   "metadata": {},
   "outputs": [],
   "source": [
    "a[0:6]"
   ]
  },
  {
   "cell_type": "code",
   "execution_count": null,
   "id": "18677297",
   "metadata": {},
   "outputs": [],
   "source": [
    "a[0:13]\n"
   ]
  },
  {
   "cell_type": "markdown",
   "id": "e797259f",
   "metadata": {},
   "source": [
    "# Last index is Exclusive"
   ]
  },
  {
   "cell_type": "code",
   "execution_count": null,
   "id": "988b475b",
   "metadata": {},
   "outputs": [],
   "source": [
    "len(a)"
   ]
  },
  {
   "cell_type": "code",
   "execution_count": null,
   "id": "f2f8252a",
   "metadata": {},
   "outputs": [],
   "source": [
    "a[-6:13]"
   ]
  },
  {
   "cell_type": "code",
   "execution_count": null,
   "id": "9303bf0e",
   "metadata": {},
   "outputs": [],
   "source": [
    "a[-1:-6]"
   ]
  },
  {
   "cell_type": "code",
   "execution_count": null,
   "id": "26c05191",
   "metadata": {},
   "outputs": [],
   "source": [
    "food = \"baryani\"\n",
    "food"
   ]
  },
  {
   "cell_type": "markdown",
   "id": "0ed1c1ce",
   "metadata": {},
   "source": [
    "# Strings Methods"
   ]
  },
  {
   "cell_type": "code",
   "execution_count": null,
   "id": "8b018532",
   "metadata": {},
   "outputs": [],
   "source": [
    "#Lower all the elements of Strings\n",
    "food.lower()"
   ]
  },
  {
   "cell_type": "code",
   "execution_count": null,
   "id": "5521549e",
   "metadata": {},
   "outputs": [],
   "source": [
    "#Upper all the elements of Strings\n",
    "food.upper()"
   ]
  },
  {
   "cell_type": "code",
   "execution_count": null,
   "id": "8a17b8dd",
   "metadata": {},
   "outputs": [],
   "source": [
    "#capitalize the first element of the strings\n",
    "food.capitalize()"
   ]
  },
  {
   "cell_type": "code",
   "execution_count": null,
   "id": "9174e5b8",
   "metadata": {},
   "outputs": [],
   "source": [
    "#Replace with one charactor to another\n",
    "food.replace(\"b\", \"Sh\")"
   ]
  },
  {
   "cell_type": "code",
   "execution_count": null,
   "id": "d19ed28e",
   "metadata": {},
   "outputs": [],
   "source": [
    "#Counting a specific char in all the strings\n",
    "food.count(\"a\")"
   ]
  },
  {
   "cell_type": "markdown",
   "id": "58cafc87",
   "metadata": {},
   "source": [
    "### -Find an indexing number in strings"
   ]
  },
  {
   "cell_type": "code",
   "execution_count": null,
   "id": "39403605",
   "metadata": {},
   "outputs": [],
   "source": [
    "name = \"My name is Muhammad Rizwan, From Lahore Pakistan, I'm a student of BS(Computer Science ) From Virtual University of Pak\"\n",
    "name"
   ]
  },
  {
   "cell_type": "code",
   "execution_count": null,
   "id": "6a7d25ed",
   "metadata": {},
   "outputs": [],
   "source": [
    "#Find index number of strings\n",
    "name.find(\"mm\")"
   ]
  },
  {
   "cell_type": "markdown",
   "id": "a523cd52",
   "metadata": {},
   "source": [
    "### -spilite an string"
   ]
  },
  {
   "cell_type": "code",
   "execution_count": null,
   "id": "b53eec4f",
   "metadata": {},
   "outputs": [],
   "source": [
    "name"
   ]
  },
  {
   "cell_type": "code",
   "execution_count": null,
   "id": "7be7b8d2",
   "metadata": {},
   "outputs": [],
   "source": [
    "name.split(\",\")"
   ]
  },
  {
   "cell_type": "code",
   "execution_count": null,
   "id": "4149a097",
   "metadata": {},
   "outputs": [],
   "source": [
    "len(name)"
   ]
  },
  {
   "cell_type": "code",
   "execution_count": null,
   "id": "dda78170",
   "metadata": {},
   "outputs": [],
   "source": [
    "name.replace(\"Computer Science\", \"Software Engineering\")"
   ]
  },
  {
   "cell_type": "code",
   "execution_count": null,
   "id": "c798e487",
   "metadata": {},
   "outputs": [],
   "source": [
    "name.upper()"
   ]
  },
  {
   "cell_type": "code",
   "execution_count": null,
   "id": "942b96ed",
   "metadata": {},
   "outputs": [],
   "source": [
    "name.lower()"
   ]
  },
  {
   "cell_type": "code",
   "execution_count": null,
   "id": "ee141f5a",
   "metadata": {},
   "outputs": [],
   "source": [
    "name.capitalize()"
   ]
  },
  {
   "cell_type": "code",
   "execution_count": null,
   "id": "d9c8c7ef",
   "metadata": {},
   "outputs": [],
   "source": [
    "name[80:112]"
   ]
  },
  {
   "cell_type": "markdown",
   "id": "d18a405c",
   "metadata": {},
   "source": [
    "# Basic Data Structure in Python\n",
    "\n",
    "### 1- Tuple\n",
    "\n",
    "### 2- List\n",
    "\n",
    "### 3- Dictionaries\n",
    "\n",
    "### 4- Set "
   ]
  },
  {
   "cell_type": "code",
   "execution_count": null,
   "id": "3779835f",
   "metadata": {},
   "outputs": [],
   "source": [
    "tup1 = (786, \"Riz\", 3.1415, True)\n",
    "tup1"
   ]
  },
  {
   "cell_type": "markdown",
   "id": "5910affe",
   "metadata": {},
   "source": [
    "# 1-Indexing of Tuple\n"
   ]
  },
  {
   "cell_type": "code",
   "execution_count": null,
   "id": "2de1206a",
   "metadata": {},
   "outputs": [],
   "source": [
    "#Access first element in the tuple\n",
    "tup1[0]"
   ]
  },
  {
   "cell_type": "code",
   "execution_count": null,
   "id": "a161c3ec",
   "metadata": {},
   "outputs": [],
   "source": [
    "#In python last number of indexing is exclusive\n",
    "tup1[0:4] "
   ]
  },
  {
   "cell_type": "code",
   "execution_count": null,
   "id": "fb414f0e",
   "metadata": {},
   "outputs": [],
   "source": [
    "#find the type of tuple\n",
    "type(tup1) "
   ]
  },
  {
   "cell_type": "code",
   "execution_count": null,
   "id": "5c17752e",
   "metadata": {},
   "outputs": [],
   "source": [
    "# find the length of the tuple\n",
    "len(tup1)"
   ]
  },
  {
   "cell_type": "code",
   "execution_count": null,
   "id": "ac929ee1",
   "metadata": {},
   "outputs": [],
   "source": [
    "# One more Tupple \n",
    "tup2 = (5, \"Pakistan\", False, 3.5)\n",
    "tup2"
   ]
  },
  {
   "cell_type": "code",
   "execution_count": null,
   "id": "385fd009",
   "metadata": {},
   "outputs": [],
   "source": [
    "#Multiplication of Tuple with some integer like 2\n",
    "tup1*2"
   ]
  },
  {
   "cell_type": "markdown",
   "id": "851efd9d",
   "metadata": {},
   "source": [
    "### Multiplication of tuple with some integer then the output will be all the element will be multipling with number of multiplication"
   ]
  },
  {
   "cell_type": "code",
   "execution_count": null,
   "id": "364265af",
   "metadata": {},
   "outputs": [],
   "source": [
    "# Concatinate two Tupples (Add more than 2 tupples)\n",
    "tup1 +tup2"
   ]
  },
  {
   "cell_type": "markdown",
   "id": "f5ffb11c",
   "metadata": {},
   "source": [
    "# -find the min and max element in the tuple"
   ]
  },
  {
   "cell_type": "code",
   "execution_count": null,
   "id": "99301eba",
   "metadata": {},
   "outputs": [],
   "source": [
    "tup4 = (5, 10, 15, 20, 25, 30)\n",
    "tup4"
   ]
  },
  {
   "cell_type": "code",
   "execution_count": null,
   "id": "27790188",
   "metadata": {},
   "outputs": [],
   "source": [
    "min(tup4)"
   ]
  },
  {
   "cell_type": "code",
   "execution_count": null,
   "id": "9fa41878",
   "metadata": {},
   "outputs": [],
   "source": [
    "max(tup4)"
   ]
  },
  {
   "cell_type": "code",
   "execution_count": null,
   "id": "d092e6dd",
   "metadata": {},
   "outputs": [],
   "source": [
    "tup4 *2"
   ]
  },
  {
   "cell_type": "code",
   "execution_count": null,
   "id": "3a2a30cb",
   "metadata": {},
   "outputs": [],
   "source": [
    "tup1+tup2+tup4"
   ]
  },
  {
   "cell_type": "markdown",
   "id": "4a39054c",
   "metadata": {},
   "source": [
    "---"
   ]
  },
  {
   "cell_type": "markdown",
   "id": "5e6ddf12",
   "metadata": {},
   "source": [
    "# 2-List\n",
    "## -Ordered Collection of elements\n",
    "## -Different kind of elements can be stored\n",
    "## -You can change the stored elements \n",
    "## -All the elements are stored in [ ] paranthises"
   ]
  },
  {
   "cell_type": "code",
   "execution_count": null,
   "id": "4623231c",
   "metadata": {},
   "outputs": [],
   "source": [
    "list1 = [\"Riz\", 786, True, 4.5]\n",
    "list1"
   ]
  },
  {
   "cell_type": "code",
   "execution_count": null,
   "id": "fd022fed",
   "metadata": {},
   "outputs": [],
   "source": [
    "list2 = [3,7,1, 23, 64, 232, 643, 932, 11, 34]\n",
    "list2"
   ]
  },
  {
   "cell_type": "code",
   "execution_count": null,
   "id": "a9c8c458",
   "metadata": {},
   "outputs": [],
   "source": [
    "# Concatinate the two list\n",
    "list1 + list2"
   ]
  },
  {
   "cell_type": "markdown",
   "id": "3b32850a",
   "metadata": {},
   "source": [
    "## -> Use the functions of list one by one"
   ]
  },
  {
   "cell_type": "code",
   "execution_count": null,
   "id": "5c80781d",
   "metadata": {},
   "outputs": [],
   "source": [
    "list2"
   ]
  },
  {
   "cell_type": "code",
   "execution_count": null,
   "id": "ce741b42",
   "metadata": {},
   "outputs": [],
   "source": [
    "# Append an element in the list which always linked at the end of the list\n",
    "list2.append(786)\n",
    "list2"
   ]
  },
  {
   "cell_type": "code",
   "execution_count": null,
   "id": "3d549189",
   "metadata": {},
   "outputs": [],
   "source": [
    "#Now find the length of the list\n",
    "len(list2)"
   ]
  },
  {
   "cell_type": "code",
   "execution_count": null,
   "id": "e8946148",
   "metadata": {},
   "outputs": [],
   "source": [
    "#Now sort the list elements \n",
    "list2.sort()\n",
    "list2"
   ]
  },
  {
   "cell_type": "code",
   "execution_count": null,
   "id": "3c88082d",
   "metadata": {},
   "outputs": [],
   "source": [
    "#Now Reverse all the elements of list (Desorted)\n",
    "list2.reverse()\n",
    "list2"
   ]
  },
  {
   "cell_type": "code",
   "execution_count": null,
   "id": "fa5e2d5d",
   "metadata": {},
   "outputs": [],
   "source": [
    "list1"
   ]
  },
  {
   "cell_type": "code",
   "execution_count": null,
   "id": "a153cd9f",
   "metadata": {},
   "outputs": [],
   "source": [
    "(list1 + list2)*2"
   ]
  },
  {
   "cell_type": "code",
   "execution_count": null,
   "id": "94dddabe",
   "metadata": {},
   "outputs": [],
   "source": [
    "#Merge two list in one list\n",
    "list3 = list1 +list2\n",
    "list3"
   ]
  },
  {
   "cell_type": "code",
   "execution_count": null,
   "id": "756c99b9",
   "metadata": {},
   "outputs": [],
   "source": [
    "list2.copy()"
   ]
  },
  {
   "cell_type": "code",
   "execution_count": null,
   "id": "1def6e15",
   "metadata": {},
   "outputs": [],
   "source": [
    "list1.copy()"
   ]
  },
  {
   "cell_type": "code",
   "execution_count": null,
   "id": "f020f3ec",
   "metadata": {},
   "outputs": [],
   "source": [
    "### -Copy Method in the list \n",
    "summer_fruits = [\"Manago\", \"Banana\", \"Apple\", \"Tarbooza\", \"Kharboza\"]\n",
    "spring_fruits = summer_fruits.copy()\n",
    "spring_fruits\n",
    "\n"
   ]
  },
  {
   "cell_type": "code",
   "execution_count": null,
   "id": "af5aae60",
   "metadata": {},
   "outputs": [],
   "source": [
    "spring_fruits"
   ]
  },
  {
   "cell_type": "code",
   "execution_count": null,
   "id": "3511b163",
   "metadata": {},
   "outputs": [],
   "source": [
    "summer_fruits"
   ]
  },
  {
   "cell_type": "code",
   "execution_count": null,
   "id": "87baf765",
   "metadata": {},
   "outputs": [],
   "source": [
    "len(summer_fruits)"
   ]
  },
  {
   "cell_type": "code",
   "execution_count": null,
   "id": "b533097d",
   "metadata": {},
   "outputs": [],
   "source": [
    "#Insertion of an elements in the list\n",
    "spring_fruits.insert(3,\"Khurbani\")\n",
    "spring_fruits"
   ]
  },
  {
   "cell_type": "code",
   "execution_count": null,
   "id": "88214184",
   "metadata": {},
   "outputs": [],
   "source": [
    "#Clear all the elements in the list to use clear function\n",
    "summer_fruits.clear()\n",
    "summer_fruits"
   ]
  },
  {
   "cell_type": "code",
   "execution_count": null,
   "id": "09e8690e",
   "metadata": {},
   "outputs": [],
   "source": [
    "spring_fruits"
   ]
  },
  {
   "cell_type": "code",
   "execution_count": null,
   "id": "3d17095e",
   "metadata": {},
   "outputs": [],
   "source": [
    "spring_fruits.sort()\n",
    "spring_fruits"
   ]
  },
  {
   "cell_type": "code",
   "execution_count": null,
   "id": "64522cf0",
   "metadata": {},
   "outputs": [],
   "source": [
    "# Count how many elements are in the list so we use count method\n",
    "spring_fruits.count(\"Banana\")"
   ]
  },
  {
   "cell_type": "code",
   "execution_count": null,
   "id": "62051be5",
   "metadata": {},
   "outputs": [],
   "source": [
    "summer_fruits"
   ]
  },
  {
   "cell_type": "code",
   "execution_count": null,
   "id": "cde47b42",
   "metadata": {},
   "outputs": [],
   "source": [
    "spring_fruits"
   ]
  },
  {
   "cell_type": "code",
   "execution_count": null,
   "id": "f0cdf9ba",
   "metadata": {},
   "outputs": [],
   "source": [
    "# Concatinate all 2 list of strings\n",
    "summer_fruits + spring_fruits"
   ]
  },
  {
   "cell_type": "code",
   "execution_count": null,
   "id": "6035d048",
   "metadata": {},
   "outputs": [],
   "source": [
    "#Merge 2 list of strings in one\n",
    "merge_fruits = summer_fruits + spring_fruits\n",
    "merge_fruits"
   ]
  },
  {
   "cell_type": "code",
   "execution_count": null,
   "id": "894ac7ba",
   "metadata": {},
   "outputs": [],
   "source": [
    "merge_fruits.sort()\n",
    "merge_fruits"
   ]
  },
  {
   "cell_type": "markdown",
   "id": "b9fcbaa1",
   "metadata": {},
   "source": [
    "---"
   ]
  },
  {
   "cell_type": "markdown",
   "id": "8f965381",
   "metadata": {},
   "source": [
    "# 3-Dictionaries\n",
    "### -Unordered collectioin of elements \n",
    "### -Mutetable(You can change them)\n",
    "### -Dictionaries have two things first keys and second values\n",
    "### -Enclosed with curly brases / { }"
   ]
  },
  {
   "cell_type": "code",
   "execution_count": null,
   "id": "b261353b",
   "metadata": {},
   "outputs": [],
   "source": [
    "food1 = {\"Samosa\":30, \"Pakora\":100, \"Raita\": 30, \"Salad\":20}\n",
    "food1"
   ]
  },
  {
   "cell_type": "code",
   "execution_count": null,
   "id": "c6df6022",
   "metadata": {},
   "outputs": [],
   "source": [
    "#Check the type of food1\n",
    "type(food1)"
   ]
  },
  {
   "cell_type": "code",
   "execution_count": null,
   "id": "ea3feb8b",
   "metadata": {},
   "outputs": [],
   "source": [
    "food2 = {\"Tiki\": 30, \"Charkori\":50, \"Chiken Rolls\":50}\n",
    "food2"
   ]
  },
  {
   "cell_type": "code",
   "execution_count": null,
   "id": "822f693f",
   "metadata": {},
   "outputs": [],
   "source": [
    "# Concatinate two different Dictionaries\n",
    "food1.update(food2)\n",
    "food1"
   ]
  },
  {
   "cell_type": "code",
   "execution_count": null,
   "id": "ac11d0b2",
   "metadata": {},
   "outputs": [],
   "source": [
    "food1.keys()"
   ]
  },
  {
   "cell_type": "code",
   "execution_count": null,
   "id": "eaf631c8",
   "metadata": {},
   "outputs": [],
   "source": [
    "food1.values()"
   ]
  },
  {
   "cell_type": "code",
   "execution_count": null,
   "id": "10d1b2d9",
   "metadata": {},
   "outputs": [],
   "source": [
    "element = food1.pop('Samosa')\n",
    "'the value of Samaso is:',element"
   ]
  },
  {
   "cell_type": "code",
   "execution_count": null,
   "id": "f5ef0456",
   "metadata": {},
   "outputs": [],
   "source": [
    "food1"
   ]
  },
  {
   "cell_type": "code",
   "execution_count": null,
   "id": "344b8c2e",
   "metadata": {},
   "outputs": [],
   "source": [
    "food3 = {\"Baryani\":786}\n",
    "food3"
   ]
  },
  {
   "cell_type": "code",
   "execution_count": null,
   "id": "77727719",
   "metadata": {},
   "outputs": [],
   "source": [
    "food1.update(food3)\n",
    "food1"
   ]
  },
  {
   "cell_type": "code",
   "execution_count": null,
   "id": "9eeb03af",
   "metadata": {},
   "outputs": [],
   "source": [
    "check=food1.popitem()\n",
    "check"
   ]
  },
  {
   "cell_type": "code",
   "execution_count": null,
   "id": "4e2b6737",
   "metadata": {},
   "outputs": [],
   "source": [
    "food1"
   ]
  },
  {
   "cell_type": "code",
   "execution_count": null,
   "id": "1242866e",
   "metadata": {},
   "outputs": [],
   "source": [
    "#Setdefault method return the value if the keys are find, if keys are not find in the whole dictionary then the defualt value willbe printed\n",
    "food1.setdefault(\"Baryani\" ,'Samosa')\n"
   ]
  },
  {
   "cell_type": "code",
   "execution_count": null,
   "id": "95705a90",
   "metadata": {},
   "outputs": [],
   "source": [
    "#item() method views all the elements speratedly and second fuction of it change the values of any keys\n",
    "food1.items()\n",
    "change_baryani = food1['Baryani'] = 150\n",
    "change_baryani"
   ]
  },
  {
   "cell_type": "code",
   "execution_count": null,
   "id": "61feb8ff",
   "metadata": {},
   "outputs": [],
   "source": [
    "food1.items()"
   ]
  },
  {
   "cell_type": "markdown",
   "id": "e1d55fb1",
   "metadata": {},
   "source": [
    "---"
   ]
  },
  {
   "cell_type": "markdown",
   "id": "270d36c5",
   "metadata": {},
   "source": [
    "# 4- List\n",
    "- unordered and unidexing\n",
    "- In listing data structure we use curly brases { }\n",
    "- Duplicates are not allowed\n",
    "- Boolein functions are not allowed"
   ]
  },
  {
   "cell_type": "code",
   "execution_count": null,
   "id": "8818439a",
   "metadata": {},
   "outputs": [],
   "source": [
    "# Example 1\n",
    "list1 = {\"Apple\", \"Banana\", \"Cherry\"}\n",
    "list1"
   ]
  },
  {
   "cell_type": "code",
   "execution_count": null,
   "id": "10335300",
   "metadata": {},
   "outputs": [],
   "source": [
    "list2 = {\"Dates\",\"Mango\", \"Banana\"}\n",
    "list2"
   ]
  },
  {
   "cell_type": "code",
   "execution_count": null,
   "id": "096e9627",
   "metadata": {},
   "outputs": [],
   "source": [
    "# Example 2\n",
    "#Intersection means how many elements of riz1 is same to set2, same elements are intersection of two different sets\n",
    "riz1 = {1, 2, 3, 4, 5}\n",
    "riz2 = {1, 0, 8, 9, 1}\n",
    "riz1.intersection(riz2)"
   ]
  },
  {
   "cell_type": "code",
   "execution_count": null,
   "id": "c2e995a7",
   "metadata": {},
   "outputs": [],
   "source": [
    "riz1.difference_update(riz2)\n",
    "riz1"
   ]
  },
  {
   "cell_type": "code",
   "execution_count": null,
   "id": "d2f22f73",
   "metadata": {},
   "outputs": [],
   "source": [
    "# What difference have in the set of riz1 WRT to set riz2\n",
    "#riz1.difference(riz2)"
   ]
  },
  {
   "cell_type": "code",
   "execution_count": null,
   "id": "5c9aa9fa",
   "metadata": {},
   "outputs": [],
   "source": [
    "riz1.difference_update(riz2)"
   ]
  },
  {
   "cell_type": "code",
   "execution_count": null,
   "id": "fdc66b1f",
   "metadata": {},
   "outputs": [],
   "source": [
    "# Intersection means find element of which we put the argument in the method of intersection will be finded if it's not find then set(\n",
    "list1.intersection(list2)"
   ]
  },
  {
   "cell_type": "code",
   "execution_count": null,
   "id": "abeee85d",
   "metadata": {},
   "outputs": [],
   "source": [
    "# add method insert any element which are put the parameter in the add method at the end \n",
    "list1.add(\"Nashpati\")\n",
    "list1"
   ]
  },
  {
   "cell_type": "code",
   "execution_count": null,
   "id": "8ca4807a",
   "metadata": {},
   "outputs": [],
   "source": [
    "list1"
   ]
  },
  {
   "cell_type": "code",
   "execution_count": null,
   "id": "1edcba5f",
   "metadata": {},
   "outputs": [],
   "source": [
    "#different and intersection are two opposite method difference method are get the element which are not same both the sets\n",
    "list1.difference(list2)"
   ]
  },
  {
   "cell_type": "code",
   "execution_count": null,
   "id": "328a2a18",
   "metadata": {},
   "outputs": [],
   "source": [
    "#difference_update method means what the difference of list1 have WRT list2, result will show just list1\n",
    "list2.difference_update(list1)\n",
    "list2"
   ]
  },
  {
   "cell_type": "code",
   "execution_count": null,
   "id": "14036964",
   "metadata": {},
   "outputs": [],
   "source": [
    "list1.add('Biryani')\n",
    "list1"
   ]
  },
  {
   "cell_type": "code",
   "execution_count": null,
   "id": "e8b16b5c",
   "metadata": {},
   "outputs": [],
   "source": [
    "list1.add('Dates')\n",
    "list1"
   ]
  },
  {
   "cell_type": "code",
   "execution_count": null,
   "id": "c07b84ee",
   "metadata": {},
   "outputs": [],
   "source": [
    "#Discard & Remove these are two almost same method which are find an element in the set and remove it, but remove raise error and discard not\n",
    "list1.discard('Birya')\n",
    "list1"
   ]
  },
  {
   "cell_type": "code",
   "execution_count": null,
   "id": "5d273395",
   "metadata": {},
   "outputs": [],
   "source": [
    "#isdisjoint function check the two set are disjoint or not means if two sets elements are similar then return Fasle, if not then True\n",
    "list1.isdisjoint(list2)"
   ]
  },
  {
   "cell_type": "markdown",
   "id": "2596f11d",
   "metadata": {},
   "source": [
    "# Ploting Start"
   ]
  },
  {
   "cell_type": "code",
   "execution_count": null,
   "id": "65854fdf",
   "metadata": {},
   "outputs": [],
   "source": [
    "#Step-1\n",
    "import seaborn as sns\n",
    "import matplotlib.pyplot as plt\n",
    "\n",
    "#Step-2 set theme\n",
    "sns.set_theme(style = \"ticks\",color_codes=True)\n",
    "\n",
    "#Step-3 load_dataset\n",
    "kashti = sns.load_dataset(\"titanic\")\n",
    "print(kashti)\n"
   ]
  },
  {
   "cell_type": "markdown",
   "id": "b13f1146",
   "metadata": {},
   "source": [
    "# body mass index (BMS)\n",
    "# Input Weight\n",
    "# input Height\n",
    "# BMI (Ask your self your height)\n",
    "# Weight\n",
    "# Calculate the BMI\n",
    "# Print BMI (My name is ------, and my BMI is ---------)\n"
   ]
  },
  {
   "cell_type": "code",
   "execution_count": null,
   "id": "c09d3d45",
   "metadata": {},
   "outputs": [],
   "source": [
    "Weight = input(\"What is your Weight \")\n",
    "Weight = float(Weight)\n",
    "\n"
   ]
  },
  {
   "cell_type": "code",
   "execution_count": null,
   "id": "6203c443",
   "metadata": {},
   "outputs": [],
   "source": [
    "Height = input(\"What is you Height \")\n",
    "Height = float(Height)\n",
    "\n"
   ]
  },
  {
   "cell_type": "code",
   "execution_count": null,
   "id": "00f887ce",
   "metadata": {},
   "outputs": [],
   "source": [
    "BMI = Weight/Height**2\n",
    "BMI"
   ]
  },
  {
   "cell_type": "code",
   "execution_count": null,
   "id": "2b23ca20",
   "metadata": {},
   "outputs": [],
   "source": [
    "name = input(\"what is your name \")\n"
   ]
  },
  {
   "cell_type": "code",
   "execution_count": null,
   "id": "39c387b3",
   "metadata": {},
   "outputs": [],
   "source": [
    "print(\"My name is \",name , \"& my BMI is \",BMI)"
   ]
  },
  {
   "cell_type": "markdown",
   "id": "21f6428e",
   "metadata": {},
   "source": [
    "---"
   ]
  },
  {
   "cell_type": "markdown",
   "id": "c79b0edc",
   "metadata": {},
   "source": [
    "\n",
    "# Drow a Barplots with categorical variable using Seaborn and Matplotlib"
   ]
  },
  {
   "cell_type": "code",
   "execution_count": null,
   "id": "af5f610e",
   "metadata": {},
   "outputs": [],
   "source": [
    "#Catplot with Seaborn and matplotlib\n",
    "import seaborn as sns\n",
    "import matplotlib.pyplot as plt\n",
    "sns.set_theme(style=\"ticks\", color_codes=True)\n",
    "\n",
    "titanic = sns.load_dataset(\"titanic\")\n",
    "sns.catplot(x=\"sex\", y=\"survived\", hue = \"class\", kind = \"bar\", data = titanic, ci=None) #ci remove for error on bar\n",
    "plt.show()"
   ]
  },
  {
   "cell_type": "code",
   "execution_count": null,
   "id": "68aa8dfe",
   "metadata": {},
   "outputs": [],
   "source": [
    "#Countplot\n",
    "import seaborn as sns\n",
    "import matplotlib.pyplot as plt\n",
    "#sns.set_theme(style = \"ticks\", color_codes=True)\n",
    "titanic = sns.load_dataset('titanic')\n",
    "p1 = sns.countplot(x = 'who',data=titanic,hue = 'alone')\n",
    "p1.set_title(\"Plot for Counting\")\n",
    "plt.show()\n"
   ]
  },
  {
   "cell_type": "markdown",
   "id": "52e3b031",
   "metadata": {},
   "source": [
    "# 01_Line_Plot"
   ]
  },
  {
   "cell_type": "markdown",
   "id": "75b0cdb2",
   "metadata": {},
   "source": [
    "#Important Libraries \n",
    "Seaborn automatically installs these libraries\n",
    "- Matplotlib\n",
    "- Scipy\n",
    "- Pandas\n",
    "- Numpy"
   ]
  },
  {
   "cell_type": "code",
   "execution_count": null,
   "id": "020579f3",
   "metadata": {},
   "outputs": [],
   "source": [
    "# Important Libraries\n",
    "import seaborn as sns\n",
    "import matplotlib.pyplot as plt\n",
    "\n",
    "\n",
    "# load data_set\n",
    "phool = sns.load_dataset(\"iris\")\n",
    "phool\n",
    "\n",
    "# # Draw a line plot\n",
    "# sns.lineplot(x =\"sepal_length\", y= \"sepal_width\",data = phool)\n",
    "# # Show Plot\n",
    "# plt.show()"
   ]
  },
  {
   "cell_type": "markdown",
   "id": "b599b52e",
   "metadata": {},
   "source": [
    "## Add Title on Lineplot"
   ]
  },
  {
   "cell_type": "code",
   "execution_count": null,
   "id": "686c7c79",
   "metadata": {},
   "outputs": [],
   "source": [
    "# Important Libraries\n",
    "import seaborn as sns\n",
    "import matplotlib.pyplot as plt\n",
    "\n",
    "\n",
    "# load data_set\n",
    "phool = sns.load_dataset(\"iris\")\n",
    "\n",
    "\n",
    "# Draw a line plot\n",
    "sns.lineplot(x =\"sepal_length\", y= \"sepal_width\",data = phool)\n",
    "# Add Title\n",
    "plt.title(\"Lineplot using Iris Data_Set\")\n",
    "# Adjact limits of plot starting\n",
    "plt.xlim(1.5)\n",
    "plt.ylim(0.5)\n",
    "# Show Plot\n",
    "plt.show()"
   ]
  },
  {
   "cell_type": "markdown",
   "id": "3f818d8f",
   "metadata": {},
   "source": [
    "# Set Style\n",
    "- dark\n",
    "- darkgrid\n",
    "- white\n",
    "- whitegrid\n",
    "- ticks"
   ]
  },
  {
   "cell_type": "code",
   "execution_count": null,
   "id": "abf97760",
   "metadata": {},
   "outputs": [],
   "source": [
    "# Important Libraries\n",
    "import seaborn as sns\n",
    "import matplotlib.pyplot as plt\n",
    "\n",
    "# load data_set\n",
    "phool = sns.load_dataset(\"iris\")\n",
    "plt.figure(figsize=(8,6))\n",
    "\n",
    "# Draw a line plot\n",
    "sns.lineplot(x =\"sepal_length\", y= \"sepal_width\",data = phool)\n",
    "# Add Title\n",
    "plt.title(\"Lineplot using Iris Data_Set\")\n",
    "sns.set_style(\"dark\")\n",
    "sns.set_style(style=None,rc=None)\n",
    "# Show Plot\n",
    "plt.show()"
   ]
  },
  {
   "cell_type": "markdown",
   "id": "4049cf26",
   "metadata": {},
   "source": [
    "# Change Figure Size"
   ]
  },
  {
   "cell_type": "code",
   "execution_count": null,
   "id": "5e115173",
   "metadata": {},
   "outputs": [],
   "source": [
    "# Important Libraries\n",
    "import seaborn as sns\n",
    "import matplotlib.pyplot as plt\n",
    "\n",
    "# load data_set\n",
    "phool = sns.load_dataset(\"iris\")\n",
    "\n",
    "\n",
    "#Change figure size\n",
    "plt.figure(figsize=(10,8))\n",
    "\n",
    "# Draw a line plot\n",
    "sns.lineplot(x =\"sepal_length\", y= \"sepal_width\",data = phool)\n",
    "# Add Title\n",
    "plt.title(\"Lineplot using Iris Data_Set\")\n",
    "\n",
    "# Show Plot\n",
    "plt.show()"
   ]
  },
  {
   "cell_type": "code",
   "execution_count": null,
   "id": "d2255232",
   "metadata": {},
   "outputs": [],
   "source": [
    "import numpy as np\n",
    "import seaborn as sns\n",
    "import matplotlib.pyplot as plt\n",
    "sns.set_theme(style=\"dark\")\n",
    "\n",
    "# Simulate data from a bivariate Gaussian\n",
    "n = 10000\n",
    "mean = [0, 0]\n",
    "cov = [(2, .4), (.4, .2)]\n",
    "rng = np.random.RandomState(0)\n",
    "x, y = rng.multivariate_normal(mean, cov, n).T\n",
    "\n",
    "# Draw a combo histogram and scatterplot with density contours\n",
    "f, ax = plt.subplots(figsize=(6, 6))\n",
    "sns.scatterplot(x=x, y=y, s=5, color=\".15\")\n",
    "sns.histplot(x=x, y=y, bins=50, pthresh=.1, cmap=\"mako\")\n",
    "sns.kdeplot(x=x, y=y, levels=5, color=\"w\", linewidths=1)"
   ]
  },
  {
   "cell_type": "markdown",
   "id": "931834c8",
   "metadata": {},
   "source": [
    "# 02_barplot"
   ]
  },
  {
   "cell_type": "code",
   "execution_count": null,
   "id": "803640b3",
   "metadata": {},
   "outputs": [],
   "source": [
    "# Important Libraries\n",
    "import seaborn as sns\n",
    "import matplotlib.pyplot as plt\n",
    "\n",
    "\n",
    "# load data_set\n",
    "phool = sns.load_dataset(\"iris\")\n",
    "phool\n",
    "# # Draw a Barplot\n",
    "# sns.barplot(x =\"species\", y= \"petal_length\",data = phool)\n",
    "# # Show Plot\n",
    "# plt.show()"
   ]
  },
  {
   "cell_type": "code",
   "execution_count": null,
   "id": "9a9ef392",
   "metadata": {},
   "outputs": [],
   "source": [
    "# Important Libraries\n",
    "import seaborn as sns\n",
    "import matplotlib.pyplot as plt\n",
    "\n",
    "\n",
    "# load data_set\n",
    "phool = sns.load_dataset(\"iris\")\n",
    "\n",
    "\n",
    "# Draw a Barplot\n",
    "sns.barplot(x =\"species\", y= \"petal_length\",data = phool)\n",
    "# Show Plot\n",
    "plt.show()"
   ]
  },
  {
   "cell_type": "markdown",
   "id": "243bfec0",
   "metadata": {},
   "source": [
    "# Grouping"
   ]
  },
  {
   "cell_type": "code",
   "execution_count": null,
   "id": "d078f529",
   "metadata": {},
   "outputs": [],
   "source": [
    "# Important Libraries\n",
    "import seaborn as sns\n",
    "import matplotlib.pyplot as plt\n",
    "\n",
    "\n",
    "# load data_set\n",
    "kashti = sns.load_dataset(\"titanic\")\n",
    "kashti\n",
    "\n"
   ]
  },
  {
   "cell_type": "code",
   "execution_count": null,
   "id": "70109a12",
   "metadata": {},
   "outputs": [],
   "source": [
    "# Important Libraries\n",
    "import seaborn as sns\n",
    "import matplotlib.pyplot as plt\n",
    "\n",
    "\n",
    "# load data_set\n",
    "kashti = sns.load_dataset(\"titanic\")\n",
    "\n",
    "\n",
    "# Draw a Barplot\n",
    "sns.barplot(x =\"who\", y= \"pclass\",hue= \"alone\",data = kashti)\n",
    "# Show Plot\n",
    "plt.show()"
   ]
  },
  {
   "cell_type": "markdown",
   "id": "b51519fc",
   "metadata": {},
   "source": [
    "# Order Of X axis"
   ]
  },
  {
   "cell_type": "code",
   "execution_count": null,
   "id": "582a323d",
   "metadata": {},
   "outputs": [],
   "source": [
    "# Important Libraries\n",
    "import seaborn as sns\n",
    "import matplotlib.pyplot as plt\n",
    "\n",
    "\n",
    "# load data_set\n",
    "kashti = sns.load_dataset(\"titanic\")\n",
    "\n",
    "\n",
    "# Draw a Barplot\n",
    "sns.barplot(x =\"who\", y= \"pclass\",hue= \"class\",data = kashti,order=[\"child\",\"man\",\"woman\"])\n",
    "# Show Plot\n",
    "plt.show()"
   ]
  },
  {
   "cell_type": "markdown",
   "id": "97b8abb1",
   "metadata": {},
   "source": [
    "## Remove bar errors\n",
    "## Change the color of barplot\n",
    "## Change color palette"
   ]
  },
  {
   "cell_type": "code",
   "execution_count": null,
   "id": "fb45226b",
   "metadata": {},
   "outputs": [],
   "source": [
    "# Important Libraries\n",
    "import seaborn as sns\n",
    "import matplotlib.pyplot as plt\n",
    "from numpy import mean\n",
    "\n",
    "\n",
    "# load data_set\n",
    "kashti = sns.load_dataset(\"titanic\")\n",
    "\n",
    "\n",
    "# Draw a Barplot\n",
    "sns.barplot(x =\"who\", y= \"pclass\",hue= \"alone\",data = kashti, order=[\"child\",\"woman\"],color = \"red\",ci=None,\n",
    "           palette='pastel',estimator=mean)#ci mean confident intereval\n",
    "# Show Plot\n",
    "plt.show()"
   ]
  },
  {
   "cell_type": "code",
   "execution_count": null,
   "id": "af3c372d",
   "metadata": {},
   "outputs": [],
   "source": [
    "# Important Libraries\n",
    "import seaborn as sns\n",
    "import matplotlib.pyplot as plt\n",
    "from numpy import mean\n",
    "\n",
    "\n",
    "# load data_set\n",
    "kashti = sns.load_dataset(\"titanic\")\n",
    "\n",
    "\n",
    "# Draw a Barplot\n",
    "sns.barplot(x =\"who\", y= \"pclass\",hue= \"alone\",data = kashti, order=[\"child\",\"woman\"],color = \"red\",ci=None,\n",
    "           palette='pastel',estimator=mean)#ci mean confident intereval\n",
    "# Show Plot\n",
    "plt.show()"
   ]
  },
  {
   "cell_type": "code",
   "execution_count": null,
   "id": "fa95f868",
   "metadata": {
    "scrolled": true
   },
   "outputs": [],
   "source": [
    "#Barplot Horizontally\n",
    "\n",
    "# Important Libraries\n",
    "import seaborn as sns\n",
    "import matplotlib.pyplot as plty\n",
    "\n",
    "\n",
    "# load data_set\n",
    "kashti = sns.load_dataset(\"titanic\")\n",
    "\n",
    "\n",
    "# Draw a Barplot\n",
    "sns.barplot(x=\"class\", y=\"fare\",data=kashti, \n",
    "            linewidth=5, facecolor=(.2,.3,1,1),#facecolor should be between 0 to 1 , 0 means black and 1 mean white\n",
    "            errcolor=\"0\", edgecolor=\".5\")"
   ]
  },
  {
   "cell_type": "markdown",
   "id": "730247fc",
   "metadata": {},
   "source": [
    "# 03_Boxplot "
   ]
  },
  {
   "cell_type": "code",
   "execution_count": null,
   "id": "6e0370e8",
   "metadata": {},
   "outputs": [],
   "source": [
    "#import seaborn library\n",
    "import seaborn as sns\n",
    "import pandas as pd\n",
    "import matplotlib.pyplot as plt\n",
    "#draw canvas (baloon board)\n",
    "sns.set(style=\"darkgrid\")\n",
    "#load_set_data\n",
    "kashti = sns.load_dataset('titanic')\n",
    "#draw boxplot\n",
    "sns.boxplot(x=\"class\",y='fare',data=kashti,palette='pastel',saturation=1)"
   ]
  },
  {
   "cell_type": "code",
   "execution_count": null,
   "id": "d678630f",
   "metadata": {},
   "outputs": [],
   "source": [
    "\n",
    "import seaborn as sns\n",
    "import matplotlib.pyplot as plt\n",
    "import pandas as pd\n",
    "#import numpy as py\n",
    "\n",
    "kashti=sns.load_dataset('iris')\n",
    "sns.boxplot(x='species',y='petal_length',data=kashti)\n",
    "kashti.head()"
   ]
  },
  {
   "cell_type": "markdown",
   "id": "f2ba2ac0",
   "metadata": {},
   "source": [
    "# Showmeans Point "
   ]
  },
  {
   "cell_type": "code",
   "execution_count": null,
   "id": "f0973b9b",
   "metadata": {},
   "outputs": [],
   "source": [
    "sns.boxplot(x='species',y='petal_length',showmeans=True,color='red',saturation=1,data=kashti,\n",
    "           meanprops={'marker':'*','markersize':'23','markeredgecolor':'Pink'  })\n",
    "plt.xlabel(\"Riz\",size=\"20\",weight=\"bold\",color=\"blue\")\n",
    "\n",
    "plt.show()"
   ]
  },
  {
   "cell_type": "markdown",
   "id": "9c8bcfd7",
   "metadata": {},
   "source": [
    "# Chnage the Symbol of mean point"
   ]
  },
  {
   "cell_type": "code",
   "execution_count": null,
   "id": "e6964643",
   "metadata": {},
   "outputs": [],
   "source": [
    "import seaborn as sns\n",
    "import matplotlib.pyplot as plt\n",
    "import pandas as pd\n",
    "import numpy as py\n",
    "\n",
    "kashti=sns.load_dataset('iris')\n",
    "\n",
    "sns.boxplot(x='species',y='petal_length',showmeans=True,saturation=1,meanprops={'marker':'*','markersize':'23','markeredgecolor':'red'},data=kashti)\n",
    "#show labels\n",
    "plt.xlabel(\"How many species\")\n",
    "plt.ylabel(\"What is Patel_Length\")\n",
    "plt.title=\"Iris dataset\"\n",
    "plt.show()"
   ]
  },
  {
   "cell_type": "code",
   "execution_count": null,
   "id": "f9dd31a0",
   "metadata": {},
   "outputs": [],
   "source": [
    "import seaborn as sns\n",
    "import pandas as pd\n",
    "import numpy as np\n",
    "\n",
    "tip=sns.load_dataset('tips')\n",
    "tip.head()"
   ]
  },
  {
   "cell_type": "markdown",
   "id": "0d4e99b1",
   "metadata": {},
   "source": [
    "# Change the color of Hue"
   ]
  },
  {
   "cell_type": "code",
   "execution_count": null,
   "id": "24f5ad3f",
   "metadata": {},
   "outputs": [],
   "source": [
    "import seaborn as sns\n",
    "import pandas as pd\n",
    "import numpy as np\n",
    "\n",
    "tip=sns.load_dataset('tips')\n",
    "sns.boxplot(x='day',y='tip',data=tip, hue='sex', palette={'Male':'0.5','Female':'0.2'})"
   ]
  },
  {
   "cell_type": "markdown",
   "id": "a1fbc44f",
   "metadata": {},
   "source": [
    "# 04_Otherplot"
   ]
  },
  {
   "cell_type": "markdown",
   "id": "c1fdb164",
   "metadata": {},
   "source": [
    "# Lineplot with multifacets"
   ]
  },
  {
   "cell_type": "code",
   "execution_count": null,
   "id": "69aabcc6",
   "metadata": {},
   "outputs": [],
   "source": [
    "import seaborn as sns\n",
    "import matplotlib.pyplot as plt\n",
    "import pandas as pd\n",
    "import numpy as py\n",
    "#Load kiya data set of dots\n",
    "nuqta = sns.load_dataset('dots')\n",
    "nuqta\n"
   ]
  },
  {
   "cell_type": "code",
   "execution_count": null,
   "id": "58c961b7",
   "metadata": {},
   "outputs": [],
   "source": [
    "#color palette selete kiya\n",
    "palette=sns.color_palette(\"rocket_r\")\n",
    "    #set_theme of plot\n",
    "sns.set_theme(style='ticks')\n",
    "#relplot \n",
    "sns.relplot(x='time',y='firing_rate',hue='coherence',col='align',size='choice',\n",
    "            kind='line',size_order=['T1','T2'],\n",
    "            palette=palette,height=5,aspect=.85,facet_kws=dict(sharex=False),data=nuqta)\n",
    "\n",
    "plt.show()"
   ]
  },
  {
   "cell_type": "code",
   "execution_count": null,
   "id": "a091b417",
   "metadata": {},
   "outputs": [],
   "source": [
    "import seaborn as sns\n",
    "import matplotlib.pyplot as plt\n",
    "import pandas as pd\n",
    "import numpy as py\n",
    "\n",
    "sns.set_theme(style='ticks',palette='pastel')\n",
    "#load data_Set\n",
    "kashti=sns.load_dataset('titanic')\n",
    "kashti\n"
   ]
  },
  {
   "cell_type": "code",
   "execution_count": null,
   "id": "e880e27c",
   "metadata": {},
   "outputs": [],
   "source": [
    "#draw boxplot\n",
    "sns.boxplot(x='sex',y='fare',hue='alone',\n",
    "           palette=['m','g'],data=kashti)\n",
    "#sns.despine(offset=10,trim=True)\n",
    "plt.xlabel('Plot',size='23',weight='bold')\n",
    "\n"
   ]
  },
  {
   "cell_type": "markdown",
   "id": "c039f936",
   "metadata": {},
   "source": [
    "# Tips Dataset"
   ]
  },
  {
   "cell_type": "code",
   "execution_count": null,
   "id": "884c7393",
   "metadata": {},
   "outputs": [],
   "source": [
    "import seaborn as sns\n",
    "sns.set_theme(style='darkgrid',palette='pastel')\n",
    "t=sns.load_dataset('tips')\n",
    "\n",
    "sns.boxplot(x='day',y='tip',data=t)\n",
    "plt.show()\n"
   ]
  },
  {
   "cell_type": "markdown",
   "id": "e895f9e8",
   "metadata": {},
   "source": [
    "# 05_Intractive Plotly"
   ]
  },
  {
   "cell_type": "code",
   "execution_count": null,
   "id": "567fd157",
   "metadata": {},
   "outputs": [],
   "source": [
    "import plotly.express as px\n",
    "df = px.data.gapminder()\n",
    "df.head()"
   ]
  },
  {
   "cell_type": "code",
   "execution_count": null,
   "id": "912301e7",
   "metadata": {},
   "outputs": [],
   "source": [
    "import plotly.express as px\n",
    "df = px.data.gapminder()\n",
    "fig = px.scatter(df, x=\"gdpPercap\", y=\"lifeExp\", animation_frame=\"year\", \n",
    "           size=\"pop\", color=\"continent\", hover_name=\"country\", facet_col=\"continent\",animation_group=\"country\",\n",
    "           log_x=True, size_max=45, range_x=[100,100000], range_y=[25,90])\n",
    "fig.show()"
   ]
  },
  {
   "cell_type": "code",
   "execution_count": null,
   "id": "88a18ce5",
   "metadata": {},
   "outputs": [],
   "source": [
    "import plotly.express as px\n",
    "\n",
    "df = px.data.gapminder().query(\"year == 2007\")\n",
    "df.head()"
   ]
  },
  {
   "cell_type": "code",
   "execution_count": null,
   "id": "4ae6cd28",
   "metadata": {},
   "outputs": [],
   "source": [
    "import plotly.express as px\n",
    "\n",
    "df = px.data.gapminder().query(\"year == 2007\")\n",
    "fig = px.sunburst(df, path=['continent', 'country'], values='pop',\n",
    "                  color='lifeExp', hover_data=['iso_alpha'])\n",
    "fig.show()"
   ]
  },
  {
   "cell_type": "markdown",
   "id": "3346e0fb",
   "metadata": {},
   "source": [
    "# 07_3Dimension_plot"
   ]
  },
  {
   "cell_type": "code",
   "execution_count": null,
   "id": "df939d93",
   "metadata": {},
   "outputs": [],
   "source": [
    "import plotly.express as px\n",
    "df = px.data.iris()\n",
    "fig = px.scatter_3d(df, x='sepal_length', y='sepal_width', z='petal_width',\n",
    "              color='species')\n",
    "fig.show()"
   ]
  },
  {
   "cell_type": "code",
   "execution_count": null,
   "id": "a34ffa8b",
   "metadata": {},
   "outputs": [],
   "source": [
    "import plotly.express as px\n",
    "df = px.data.iris()\n",
    "fig = px.scatter_3d(df, x='sepal_length', y='sepal_width', z='petal_width',\n",
    "                    color='petal_length', symbol='species')\n",
    "fig.show()"
   ]
  },
  {
   "cell_type": "markdown",
   "id": "0e4eec8c",
   "metadata": {},
   "source": [
    "# 08_Array with NumPy"
   ]
  },
  {
   "cell_type": "code",
   "execution_count": null,
   "id": "ad2b10c2",
   "metadata": {},
   "outputs": [],
   "source": [
    "import numpy as np\n",
    "Array = np.array([[1,2,3],\n",
    "                 [4,5,6],\n",
    "                 [7,8,9]])\n",
    "print(Array)\n",
    "print(type(Array))"
   ]
  },
  {
   "cell_type": "code",
   "execution_count": null,
   "id": "2396a628",
   "metadata": {},
   "outputs": [],
   "source": [
    "len(Array)"
   ]
  },
  {
   "cell_type": "code",
   "execution_count": null,
   "id": "0408a5a9",
   "metadata": {},
   "outputs": [],
   "source": [
    "import numpy as np\n",
    "# Array of Strings\n",
    "a=np.array([\"Muhammad\",'Rizwan','Tanveer','Mobashir'])\n",
    "print(a)\n",
    "a.size\n",
    "# Array of Integers\n",
    "b=np.array([1,2,3,4,5])\n",
    "b"
   ]
  },
  {
   "cell_type": "code",
   "execution_count": null,
   "id": "b6cd67af",
   "metadata": {},
   "outputs": [],
   "source": [
    "# Vector is a one dimensional array like \n",
    "a=np.array([1,2,3])\n",
    "print(a)"
   ]
  },
  {
   "cell_type": "code",
   "execution_count": null,
   "id": "522a3c24",
   "metadata": {},
   "outputs": [],
   "source": [
    "len(a)"
   ]
  },
  {
   "cell_type": "code",
   "execution_count": null,
   "id": "e959772d",
   "metadata": {},
   "outputs": [],
   "source": [
    "print(a[1])"
   ]
  },
  {
   "cell_type": "code",
   "execution_count": null,
   "id": "65078ce0",
   "metadata": {},
   "outputs": [],
   "source": [
    "print(a[0:2])"
   ]
  },
  {
   "cell_type": "code",
   "execution_count": null,
   "id": "a8fcdb62",
   "metadata": {},
   "outputs": [],
   "source": [
    "print(a[0:])"
   ]
  },
  {
   "cell_type": "code",
   "execution_count": null,
   "id": "a59f897e",
   "metadata": {},
   "outputs": [],
   "source": [
    "b=np.zeros(3)\n",
    "b"
   ]
  },
  {
   "cell_type": "code",
   "execution_count": null,
   "id": "fd30302e",
   "metadata": {},
   "outputs": [],
   "source": [
    "#Ones array, all the elements will be just 1, 1,1 etc\n",
    "c=np.ones(2)\n",
    "type(c)\n",
    "c"
   ]
  },
  {
   "cell_type": "code",
   "execution_count": null,
   "id": "bd3194f6",
   "metadata": {},
   "outputs": [],
   "source": [
    "# empty array\n",
    "d=np.empty(3)\n",
    "d"
   ]
  },
  {
   "cell_type": "code",
   "execution_count": null,
   "id": "6f55626b",
   "metadata": {},
   "outputs": [],
   "source": [
    "#arange array\n",
    "e=np.arange(6)\n",
    "e"
   ]
  },
  {
   "cell_type": "code",
   "execution_count": null,
   "id": "10172d65",
   "metadata": {},
   "outputs": [],
   "source": [
    "# with a specific range of array\n",
    "f=np.arange(2,20)\n",
    "len(f)\n",
    "f"
   ]
  },
  {
   "cell_type": "code",
   "execution_count": null,
   "id": "02d33c03",
   "metadata": {},
   "outputs": [],
   "source": [
    "# Continue\n",
    "g = np.arange(2,20,3)\n",
    "g"
   ]
  },
  {
   "cell_type": "code",
   "execution_count": null,
   "id": "16704391",
   "metadata": {},
   "outputs": [],
   "source": [
    "# Linearly spaced arrays\n",
    "lsa = np.linspace(0,10, num=5)# we take 5 num between 0 to 10 \n",
    "lsa"
   ]
  },
  {
   "cell_type": "code",
   "execution_count": null,
   "id": "dbf9a1d3",
   "metadata": {},
   "outputs": [],
   "source": [
    "# Linearly spaced arrays\n",
    "lsa = np.linspace(0,12, num=5)# we take 5 num between 0 to 12 \n",
    "lsa"
   ]
  },
  {
   "cell_type": "code",
   "execution_count": null,
   "id": "bf3a77ba",
   "metadata": {},
   "outputs": [],
   "source": [
    "# Specific data types in array\n",
    "riz=np.ones(5, dtype=np.int8)\n",
    "riz"
   ]
  },
  {
   "cell_type": "code",
   "execution_count": null,
   "id": "97df754c",
   "metadata": {},
   "outputs": [],
   "source": [
    "# Specific data type in array\n",
    "riz=np.ones(5, dtype=np.float64)\n",
    "riz"
   ]
  },
  {
   "cell_type": "code",
   "execution_count": null,
   "id": "4368a13b",
   "metadata": {},
   "outputs": [],
   "source": [
    "r=np.ones((3,4))\n",
    "r"
   ]
  },
  {
   "cell_type": "code",
   "execution_count": null,
   "id": "d3574a20",
   "metadata": {},
   "outputs": [],
   "source": [
    "r=np.zeros((4,4))\n",
    "r"
   ]
  },
  {
   "cell_type": "code",
   "execution_count": null,
   "id": "f908bb7e",
   "metadata": {},
   "outputs": [],
   "source": [
    "r=np.empty((2,3))\n",
    "r"
   ]
  },
  {
   "cell_type": "code",
   "execution_count": null,
   "id": "c8150689",
   "metadata": {},
   "outputs": [],
   "source": [
    "# 3 Dimensional Array with Ones function\n",
    "r=np.ones((2,3,4))\n",
    "r"
   ]
  },
  {
   "cell_type": "code",
   "execution_count": null,
   "id": "1944cfdd",
   "metadata": {
    "scrolled": true
   },
   "outputs": [],
   "source": [
    "import numpy as np\n",
    "# 3 dimensional Array\n",
    "r=np.arange(36).reshape(3,3,4)\n",
    "r"
   ]
  },
  {
   "cell_type": "code",
   "execution_count": null,
   "id": "30fd685e",
   "metadata": {},
   "outputs": [],
   "source": [
    "import numpy as np\n",
    "np.zeros(5)\n"
   ]
  },
  {
   "cell_type": "code",
   "execution_count": null,
   "id": "6d1e4ad0",
   "metadata": {},
   "outputs": [],
   "source": [
    "np.ones(5, dtype=int)"
   ]
  },
  {
   "cell_type": "code",
   "execution_count": null,
   "id": "32060962",
   "metadata": {},
   "outputs": [],
   "source": [
    "import numpy as np\n",
    "food = np.empty(5,dtype=int)\n",
    "food"
   ]
  },
  {
   "cell_type": "code",
   "execution_count": null,
   "id": "c28cf862",
   "metadata": {
    "scrolled": true
   },
   "outputs": [],
   "source": [
    "\n",
    "np.ones((2,50),dtype=np.int64 )\n"
   ]
  },
  {
   "cell_type": "code",
   "execution_count": null,
   "id": "80cd6114",
   "metadata": {
    "scrolled": true
   },
   "outputs": [],
   "source": [
    "np.linspace(0,10,num=5)"
   ]
  },
  {
   "cell_type": "code",
   "execution_count": null,
   "id": "1ca601a2",
   "metadata": {},
   "outputs": [],
   "source": [
    "# table of 5\n",
    "np.arange(5,51,5)"
   ]
  },
  {
   "cell_type": "markdown",
   "id": "a25d1630",
   "metadata": {},
   "source": [
    "# Array Functions"
   ]
  },
  {
   "cell_type": "code",
   "execution_count": 11,
   "id": "401b5103",
   "metadata": {
    "scrolled": true
   },
   "outputs": [
    {
     "data": {
      "text/plain": [
       "array([24,  1, 44,  6])"
      ]
     },
     "execution_count": 11,
     "metadata": {},
     "output_type": "execute_result"
    }
   ],
   "source": [
    "import numpy as np\n",
    "a= np.array([24,1,44,6])\n",
    "a"
   ]
  },
  {
   "cell_type": "code",
   "execution_count": 12,
   "id": "a055f7dd",
   "metadata": {},
   "outputs": [
    {
     "data": {
      "text/plain": [
       "array([ 5.4, 12.5, 65.4, 23.6])"
      ]
     },
     "execution_count": 12,
     "metadata": {},
     "output_type": "execute_result"
    }
   ],
   "source": [
    "b = np.array([5.4,12.5,65.4,23.6])\n",
    "b"
   ]
  },
  {
   "cell_type": "code",
   "execution_count": 20,
   "id": "8626238a",
   "metadata": {},
   "outputs": [
    {
     "data": {
      "text/plain": [
       "array([24. ,  1. , 44. ,  6. ,  5.4, 12.5, 65.4, 23.6])"
      ]
     },
     "execution_count": 20,
     "metadata": {},
     "output_type": "execute_result"
    }
   ],
   "source": [
    "# Concatenate two arrays\n",
    "c=np.concatenate((a,b))\n",
    "c"
   ]
  },
  {
   "cell_type": "code",
   "execution_count": 25,
   "id": "05543ba1",
   "metadata": {},
   "outputs": [
    {
     "data": {
      "text/plain": [
       "array([ 1. ,  5.4,  6. , 12.5, 23.6, 24. , 44. , 65.4])"
      ]
     },
     "execution_count": 25,
     "metadata": {},
     "output_type": "execute_result"
    }
   ],
   "source": [
    "np.sort(c)"
   ]
  },
  {
   "cell_type": "code",
   "execution_count": 26,
   "id": "76f2f041",
   "metadata": {},
   "outputs": [
    {
     "data": {
      "text/plain": [
       "8"
      ]
     },
     "execution_count": 26,
     "metadata": {},
     "output_type": "execute_result"
    }
   ],
   "source": [
    "len(c)"
   ]
  },
  {
   "cell_type": "code",
   "execution_count": 27,
   "id": "105f0430",
   "metadata": {},
   "outputs": [
    {
     "data": {
      "text/plain": [
       "8"
      ]
     },
     "execution_count": 27,
     "metadata": {},
     "output_type": "execute_result"
    }
   ],
   "source": [
    "np.size(c)"
   ]
  },
  {
   "cell_type": "code",
   "execution_count": 31,
   "id": "4457afa8",
   "metadata": {},
   "outputs": [
    {
     "data": {
      "text/plain": [
       "65.4"
      ]
     },
     "execution_count": 31,
     "metadata": {},
     "output_type": "execute_result"
    }
   ],
   "source": [
    "# Find max num in the whole Array\n",
    "np.max(c)\n",
    "\n"
   ]
  },
  {
   "cell_type": "code",
   "execution_count": 29,
   "id": "75f533aa",
   "metadata": {},
   "outputs": [
    {
     "data": {
      "text/plain": [
       "1.0"
      ]
     },
     "execution_count": 29,
     "metadata": {},
     "output_type": "execute_result"
    }
   ],
   "source": [
    "np.min(c)\n"
   ]
  },
  {
   "cell_type": "markdown",
   "id": "8f013739",
   "metadata": {},
   "source": [
    "# 2-Dimensional Array"
   ]
  },
  {
   "cell_type": "code",
   "execution_count": 38,
   "id": "ee5b63e2",
   "metadata": {},
   "outputs": [
    {
     "data": {
      "text/plain": [
       "array([[6, 3, 1, 7],\n",
       "       [9, 2, 4, 0]])"
      ]
     },
     "execution_count": 38,
     "metadata": {},
     "output_type": "execute_result"
    }
   ],
   "source": [
    "a=np.array([[6,3,1,7],\n",
    "           [9,2,4,0]])\n",
    "a"
   ]
  },
  {
   "cell_type": "code",
   "execution_count": 56,
   "id": "32659386",
   "metadata": {
    "scrolled": true
   },
   "outputs": [],
   "source": [
    "# np.sort(a)"
   ]
  },
  {
   "cell_type": "code",
   "execution_count": 54,
   "id": "1fbf9546",
   "metadata": {},
   "outputs": [
    {
     "data": {
      "text/plain": [
       "array([[2, 5, 1, 3],\n",
       "       [8, 3, 2, 4]])"
      ]
     },
     "execution_count": 54,
     "metadata": {},
     "output_type": "execute_result"
    }
   ],
   "source": [
    "b=np.array([[2,5,1,3],\n",
    "            [8,3,2,4]])\n",
    "b"
   ]
  },
  {
   "cell_type": "code",
   "execution_count": 55,
   "id": "33d210a8",
   "metadata": {
    "scrolled": false
   },
   "outputs": [
    {
     "data": {
      "text/plain": [
       "array([[6, 3, 1, 7],\n",
       "       [9, 2, 4, 0],\n",
       "       [2, 5, 1, 3],\n",
       "       [8, 3, 2, 4]])"
      ]
     },
     "execution_count": 55,
     "metadata": {},
     "output_type": "execute_result"
    }
   ],
   "source": [
    "c=np.concatenate((a,b),axis=0)# axis = 0 means down word\n",
    "c"
   ]
  },
  {
   "cell_type": "code",
   "execution_count": 63,
   "id": "b6725148",
   "metadata": {},
   "outputs": [
    {
     "data": {
      "text/plain": [
       "array([[6, 3, 1, 7, 2, 5, 1, 3],\n",
       "       [9, 2, 4, 0, 8, 3, 2, 4]])"
      ]
     },
     "execution_count": 63,
     "metadata": {},
     "output_type": "execute_result"
    }
   ],
   "source": [
    "c=np.concatenate((a,b),axis=1)# axis = 1 means front side\n",
    "c"
   ]
  },
  {
   "cell_type": "code",
   "execution_count": 61,
   "id": "c56620d4",
   "metadata": {},
   "outputs": [
    {
     "data": {
      "text/plain": [
       "4"
      ]
     },
     "execution_count": 61,
     "metadata": {},
     "output_type": "execute_result"
    }
   ],
   "source": [
    "len(c)"
   ]
  },
  {
   "cell_type": "code",
   "execution_count": 59,
   "id": "b83f4d5d",
   "metadata": {},
   "outputs": [
    {
     "data": {
      "text/plain": [
       "16"
      ]
     },
     "execution_count": 59,
     "metadata": {},
     "output_type": "execute_result"
    }
   ],
   "source": [
    "# size of elements \n",
    "np.size(c)"
   ]
  },
  {
   "cell_type": "code",
   "execution_count": 49,
   "id": "232b68e3",
   "metadata": {},
   "outputs": [
    {
     "data": {
      "text/plain": [
       "9"
      ]
     },
     "execution_count": 49,
     "metadata": {},
     "output_type": "execute_result"
    }
   ],
   "source": [
    "np.max(c)"
   ]
  },
  {
   "cell_type": "code",
   "execution_count": 50,
   "id": "ff075ebd",
   "metadata": {},
   "outputs": [
    {
     "data": {
      "text/plain": [
       "0"
      ]
     },
     "execution_count": 50,
     "metadata": {},
     "output_type": "execute_result"
    }
   ],
   "source": [
    "np.min(c)"
   ]
  },
  {
   "cell_type": "code",
   "execution_count": 66,
   "id": "c60278c4",
   "metadata": {
    "scrolled": true
   },
   "outputs": [
    {
     "data": {
      "text/plain": [
       "array([[[1, 2, 3],\n",
       "        [4, 5, 6]],\n",
       "\n",
       "       [[7, 8, 9],\n",
       "        [0, 1, 2]],\n",
       "\n",
       "       [[3, 4, 5],\n",
       "        [6, 7, 8]]])"
      ]
     },
     "execution_count": 66,
     "metadata": {},
     "output_type": "execute_result"
    }
   ],
   "source": [
    "a=np.array([[[1,2,3],\n",
    "           [4,5,6]],\n",
    "          \n",
    "          [[7,8,9],\n",
    "          [0,1,2]],\n",
    "          \n",
    "          [[3,4,5],\n",
    "          [6,7,8]]])\n",
    "a"
   ]
  },
  {
   "cell_type": "code",
   "execution_count": 68,
   "id": "a8ccf01d",
   "metadata": {},
   "outputs": [
    {
     "data": {
      "text/plain": [
       "3"
      ]
     },
     "execution_count": 68,
     "metadata": {},
     "output_type": "execute_result"
    }
   ],
   "source": [
    "# Find how many dimensions of this matrix\n",
    "a.ndim"
   ]
  },
  {
   "cell_type": "code",
   "execution_count": 70,
   "id": "5c9747ad",
   "metadata": {},
   "outputs": [
    {
     "data": {
      "text/plain": [
       "(3, 2, 3)"
      ]
     },
     "execution_count": 70,
     "metadata": {},
     "output_type": "execute_result"
    }
   ],
   "source": [
    "# for find the shape of array\n",
    "a.shape"
   ]
  },
  {
   "cell_type": "code",
   "execution_count": 79,
   "id": "c47b907c",
   "metadata": {},
   "outputs": [
    {
     "data": {
      "text/plain": [
       "array([0, 1, 2, 3, 4, 5, 6])"
      ]
     },
     "execution_count": 79,
     "metadata": {},
     "output_type": "execute_result"
    }
   ],
   "source": [
    "a=np.arange(7)\n",
    "a"
   ]
  },
  {
   "cell_type": "code",
   "execution_count": 83,
   "id": "5473ee18",
   "metadata": {},
   "outputs": [
    {
     "data": {
      "text/plain": [
       "array([0, 1, 2, 3, 4, 5])"
      ]
     },
     "execution_count": 83,
     "metadata": {},
     "output_type": "execute_result"
    }
   ],
   "source": [
    "b=np.arange(6)\n",
    "b"
   ]
  },
  {
   "cell_type": "code",
   "execution_count": 85,
   "id": "9eadb983",
   "metadata": {},
   "outputs": [
    {
     "data": {
      "text/plain": [
       "array([[0, 1],\n",
       "       [2, 3],\n",
       "       [4, 5]])"
      ]
     },
     "execution_count": 85,
     "metadata": {},
     "output_type": "execute_result"
    }
   ],
   "source": [
    "d= b.reshape(3,2)\n",
    "d"
   ]
  },
  {
   "cell_type": "code",
   "execution_count": 81,
   "id": "3c63dc4b",
   "metadata": {},
   "outputs": [
    {
     "data": {
      "text/plain": [
       "array([0, 1, 2, 3, 4, 5, 6, 0, 1, 2, 3, 4, 5, 6])"
      ]
     },
     "execution_count": 81,
     "metadata": {},
     "output_type": "execute_result"
    }
   ],
   "source": [
    "c=np.concatenate((a,b))\n",
    "c"
   ]
  },
  {
   "cell_type": "code",
   "execution_count": 88,
   "id": "b7d71621",
   "metadata": {},
   "outputs": [
    {
     "data": {
      "text/plain": [
       "array([0, 1, 2, 3, 4, 5, 6, 7, 8])"
      ]
     },
     "execution_count": 88,
     "metadata": {},
     "output_type": "execute_result"
    }
   ],
   "source": [
    "b=np.arange(9)\n",
    "b"
   ]
  },
  {
   "cell_type": "code",
   "execution_count": 91,
   "id": "69998f58",
   "metadata": {
    "scrolled": true
   },
   "outputs": [
    {
     "data": {
      "text/plain": [
       "array([[0, 1, 2],\n",
       "       [3, 4, 5],\n",
       "       [6, 7, 8]])"
      ]
     },
     "execution_count": 91,
     "metadata": {},
     "output_type": "execute_result"
    }
   ],
   "source": [
    "c=b.reshape(3,3)\n",
    "c"
   ]
  },
  {
   "cell_type": "code",
   "execution_count": 102,
   "id": "2f95e1f6",
   "metadata": {
    "scrolled": true
   },
   "outputs": [
    {
     "data": {
      "text/plain": [
       "array([[0, 1, 2, 3, 4, 5, 6, 7, 8]])"
      ]
     },
     "execution_count": 102,
     "metadata": {},
     "output_type": "execute_result"
    }
   ],
   "source": [
    "d=np.reshape(c,newshape=(1,9),order='C')\n",
    "d"
   ]
  },
  {
   "cell_type": "code",
   "execution_count": 111,
   "id": "f69364ab",
   "metadata": {},
   "outputs": [
    {
     "data": {
      "text/plain": [
       "array([0, 1, 2, 3, 4, 5, 6, 7, 8])"
      ]
     },
     "execution_count": 111,
     "metadata": {},
     "output_type": "execute_result"
    }
   ],
   "source": [
    "riz=np.array([0, 1, 2, 3, 4, 5, 6, 7,8])\n",
    "riz"
   ]
  },
  {
   "cell_type": "code",
   "execution_count": 119,
   "id": "6f7ba06f",
   "metadata": {},
   "outputs": [
    {
     "data": {
      "text/plain": [
       "array([[0, 1, 2, 3, 4, 5, 6, 7, 8]])"
      ]
     },
     "execution_count": 119,
     "metadata": {},
     "output_type": "execute_result"
    }
   ],
   "source": [
    "#convert 1-D array into 2-D array\n",
    "b=riz[np.newaxis, :]\n",
    "b"
   ]
  },
  {
   "cell_type": "code",
   "execution_count": 120,
   "id": "95b9a02a",
   "metadata": {},
   "outputs": [
    {
     "data": {
      "text/plain": [
       "(1, 9)"
      ]
     },
     "execution_count": 120,
     "metadata": {},
     "output_type": "execute_result"
    }
   ],
   "source": [
    "b.shape"
   ]
  },
  {
   "cell_type": "code",
   "execution_count": 123,
   "id": "0603f6b4",
   "metadata": {},
   "outputs": [
    {
     "data": {
      "text/plain": [
       "array([[0, 1, 2],\n",
       "       [3, 4, 5],\n",
       "       [6, 7, 8]])"
      ]
     },
     "execution_count": 123,
     "metadata": {},
     "output_type": "execute_result"
    }
   ],
   "source": [
    "c=np.reshape(b,newshape=(3,3),order='C')\n",
    "c"
   ]
  },
  {
   "cell_type": "code",
   "execution_count": 124,
   "id": "f8c33021",
   "metadata": {
    "scrolled": true
   },
   "outputs": [
    {
     "data": {
      "text/plain": [
       "(3, 3)"
      ]
     },
     "execution_count": 124,
     "metadata": {},
     "output_type": "execute_result"
    }
   ],
   "source": [
    "c.shape"
   ]
  },
  {
   "cell_type": "code",
   "execution_count": 140,
   "id": "f8335115",
   "metadata": {
    "scrolled": true
   },
   "outputs": [
    {
     "data": {
      "text/plain": [
       "36"
      ]
     },
     "execution_count": 140,
     "metadata": {},
     "output_type": "execute_result"
    }
   ],
   "source": [
    "c.sum()"
   ]
  },
  {
   "cell_type": "code",
   "execution_count": 141,
   "id": "2fcc2706",
   "metadata": {
    "scrolled": true
   },
   "outputs": [
    {
     "data": {
      "text/plain": [
       "4.0"
      ]
     },
     "execution_count": 141,
     "metadata": {},
     "output_type": "execute_result"
    }
   ],
   "source": [
    "c.mean()"
   ]
  },
  {
   "cell_type": "code",
   "execution_count": 142,
   "id": "20ecf1fd",
   "metadata": {
    "scrolled": true
   },
   "outputs": [
    {
     "data": {
      "text/plain": [
       "array([[0, 1, 2],\n",
       "       [3, 4, 5],\n",
       "       [6, 7, 8]])"
      ]
     },
     "execution_count": 142,
     "metadata": {},
     "output_type": "execute_result"
    }
   ],
   "source": [
    "d= c.copy()\n",
    "d"
   ]
  },
  {
   "cell_type": "code",
   "execution_count": 143,
   "id": "892c5b5d",
   "metadata": {
    "scrolled": true
   },
   "outputs": [
    {
     "data": {
      "text/plain": [
       "array([[ 0,  2,  4],\n",
       "       [ 6,  8, 10],\n",
       "       [12, 14, 16]])"
      ]
     },
     "execution_count": 143,
     "metadata": {},
     "output_type": "execute_result"
    }
   ],
   "source": [
    "e=c+d\n",
    "e"
   ]
  },
  {
   "cell_type": "code",
   "execution_count": 147,
   "id": "897ea859",
   "metadata": {
    "scrolled": true
   },
   "outputs": [
    {
     "data": {
      "text/plain": [
       "array([[0, 1, 2, 0, 1, 2],\n",
       "       [3, 4, 5, 3, 4, 5],\n",
       "       [6, 7, 8, 6, 7, 8]])"
      ]
     },
     "execution_count": 147,
     "metadata": {},
     "output_type": "execute_result"
    }
   ],
   "source": [
    "f=np.concatenate((c,d),axis=1)\n",
    "f"
   ]
  },
  {
   "cell_type": "code",
   "execution_count": null,
   "id": "d53e82b3",
   "metadata": {},
   "outputs": [],
   "source": [
    "np."
   ]
  }
 ],
 "metadata": {
  "kernelspec": {
   "display_name": "Python 3 (ipykernel)",
   "language": "python",
   "name": "python3"
  },
  "language_info": {
   "codemirror_mode": {
    "name": "ipython",
    "version": 3
   },
   "file_extension": ".py",
   "mimetype": "text/x-python",
   "name": "python",
   "nbconvert_exporter": "python",
   "pygments_lexer": "ipython3",
   "version": "3.9.7"
  }
 },
 "nbformat": 4,
 "nbformat_minor": 5
}
